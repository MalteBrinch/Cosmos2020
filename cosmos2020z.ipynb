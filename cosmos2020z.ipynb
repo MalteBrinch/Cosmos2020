{
 "cells": [
  {
   "cell_type": "code",
   "execution_count": 1,
   "metadata": {},
   "outputs": [],
   "source": [
    "#%matplotlib notebook\n",
    "import astropy.io.fits as fits\n",
    "import numpy as np\n",
    "import matplotlib.pyplot as plt\n",
    "import os\n",
    "from astropy import units as u\n",
    "from astropy.coordinates import SkyCoord"
   ]
  },
  {
   "cell_type": "code",
   "execution_count": 2,
   "metadata": {},
   "outputs": [],
   "source": [
    "Name='photoz_cosmos2020_lephare_classic_v1.out.fits'\n",
    "path=r'C:\\Users\\blue\\Desktop\\Python\\Cosmos2020'\n",
    "\n",
    "\n",
    "hdul = fits.open(os.path.join(path,Name))\n",
    "#hdul.info()\n",
    "data = hdul[1].data\n",
    "#hdul2 = fits.open(os.path.join(path,'COSMOS2015_Laigle+_v1.1.fits'))\n",
    "#hdul2.info()\n",
    "#data2 = hdul2[1].data\n",
    "#hdul[0].header\n",
    "\n",
    "\n",
    "Name2='COSMOS2020_CLASSIC_v1.5_formatted.fits'\n",
    "\n",
    "hdul2 = fits.open(os.path.join(path,Name2))\n",
    "#hdul2.info()\n",
    "data2 = hdul2[1].data\n",
    "\n",
    "\n",
    "Name3='zphot_clean.pdz.fits'\n",
    "hdul3 = fits.open(os.path.join(path,Name3))\n",
    "#hdul3.info()\n",
    "\n",
    "data3 = hdul3[0].data"
   ]
  },
  {
   "cell_type": "code",
   "execution_count": null,
   "metadata": {},
   "outputs": [],
   "source": [
    "data2['HSC_g_FLUXERR_AUTO']"
   ]
  },
  {
   "cell_type": "code",
   "execution_count": null,
   "metadata": {},
   "outputs": [],
   "source": [
    "from astropy.table import Table\n",
    "\n",
    "table = Table.read(os.path.join(path,Name2))#, memmap=True)"
   ]
  },
  {
   "cell_type": "code",
   "execution_count": null,
   "metadata": {},
   "outputs": [],
   "source": [
    "table[0:10]"
   ]
  },
  {
   "cell_type": "code",
   "execution_count": 3,
   "metadata": {},
   "outputs": [],
   "source": [
    "z=[float('NaN')] * len(data)\n",
    "zpdf=[float('NaN')] * len(data)\n",
    "idx=[float('NaN')] * len(data)\n",
    "a=[float('NaN')] * len(data)\n",
    "d=[float('NaN')] * len(data)\n",
    "G=[float('NaN')] * len(data)\n",
    "R=[float('NaN')] * len(data)\n",
    "I=[float('NaN')] * len(data)\n",
    "J=[float('NaN')] * len(data)\n",
    "H=[float('NaN')] * len(data)\n",
    "K=[float('NaN')] * len(data)"
   ]
  },
  {
   "cell_type": "code",
   "execution_count": 4,
   "metadata": {},
   "outputs": [],
   "source": [
    "for i in range(0,len(data)):\n",
    "    if data[i][3]<=1.0:\n",
    "        continue\n",
    "    elif data[i][3]==0:\n",
    "        continue\n",
    "    elif data[i][3]>=10.0:\n",
    "        continue\n",
    "    else:\n",
    "        idx[i]=data[i][0]#id\n",
    "        a[i]=data[i][1]#alpha J2000, in deg\n",
    "        d[i]=data[i][2]#delta J2000, in deg\n",
    "        z[i]=data[i][3]#redshift, median of the likelihood distribution. \n",
    "        #zpdf[i]=data3[i]#the pdf for the photometric redshift\n",
    "        \n",
    "        G[i]=data[i][28]#g Subaru HSC\n",
    "        R[i]=data[i][29]#r Subaru HSC\n",
    "        I[i]=data[i][30]#i Subaru HSC\n",
    "        J[i]=data[i][33]#J VISTA\n",
    "        H[i]=data[i][34]#H VISTA\n",
    "        K[i]=data[i][35]#K VISTA\n",
    "        \n",
    "        "
   ]
  },
  {
   "cell_type": "code",
   "execution_count": 6,
   "metadata": {},
   "outputs": [],
   "source": [
    "z=np.array(z)\n",
    "#zpdf=np.array(zpdf)\n",
    "idx=np.array(idx)\n",
    "a=np.array(a)\n",
    "d=np.array(d)\n",
    "G=np.array(G)\n",
    "R=np.array(R)\n",
    "I=np.array(I)\n",
    "#Z=np.array(Z)\n",
    "J=np.array(J)\n",
    "H=np.array(H)\n",
    "K=np.array(K)"
   ]
  },
  {
   "cell_type": "code",
   "execution_count": 7,
   "metadata": {},
   "outputs": [
    {
     "data": {
      "text/plain": [
       "nan"
      ]
     },
     "execution_count": 7,
     "metadata": {},
     "output_type": "execute_result"
    }
   ],
   "source": [
    "idx[0]"
   ]
  },
  {
   "cell_type": "code",
   "execution_count": 8,
   "metadata": {},
   "outputs": [],
   "source": [
    "#Remove nan\n",
    "znan=z[~np.isnan(z)]\n",
    "idxnan=idx[~np.isnan(z)]-1\n",
    "anan=a[~np.isnan(z)]\n",
    "dnan=d[~np.isnan(z)]\n",
    "Gnan=G[~np.isnan(z)]\n",
    "Rnan=R[~np.isnan(z)]\n",
    "Inan=I[~np.isnan(z)]\n",
    "#Znan=Z[~np.isnan(z)]\n",
    "Jnan=J[~np.isnan(z)]\n",
    "Hnan=H[~np.isnan(z)]\n",
    "Knan=K[~np.isnan(z)]"
   ]
  },
  {
   "cell_type": "code",
   "execution_count": 9,
   "metadata": {},
   "outputs": [],
   "source": [
    "idxlist=idxnan.tolist()\n",
    "idxlist = [int(i) for i in idxlist]\n",
    "zpdf=data3[idxlist]"
   ]
  },
  {
   "cell_type": "code",
   "execution_count": 10,
   "metadata": {},
   "outputs": [
    {
     "name": "stdout",
     "output_type": "stream",
     "text": [
      "0\n"
     ]
    }
   ],
   "source": [
    "print(len(zpdf)-len(znan))"
   ]
  },
  {
   "cell_type": "code",
   "execution_count": 11,
   "metadata": {},
   "outputs": [
    {
     "name": "stdout",
     "output_type": "stream",
     "text": [
      "450\n"
     ]
    },
    {
     "data": {
      "image/png": "[encoded data removed]",
      "text/plain": [
       "<Figure size 432x288 with 1 Axes>"
      ]
     },
     "metadata": {
      "needs_background": "light"
     },
     "output_type": "display_data"
    }
   ],
   "source": [
    "#hist=plt.hist(z,bins='auto')\n",
    "\n",
    "binwidth=0.02\n",
    "#print(np.arange(min(znan[idxcatalog[ch]]), max(znan[idxcatalog[ch]]) + binwidth, binwidth))\n",
    "plt.figure()\n",
    "counts, edges, plot=plt.hist(znan,bins=np.arange(min(znan), max(znan) + binwidth, binwidth))\n",
    "plt.xlabel('z')\n",
    "bincenters = np.mean(np.vstack([edges[0:-1],edges[1:]]), axis=0)\n",
    "print(len(bincenters))"
   ]
  },
  {
   "cell_type": "code",
   "execution_count": 12,
   "metadata": {},
   "outputs": [
    {
     "name": "stdout",
     "output_type": "stream",
     "text": [
      "2.2301000165939344\n"
     ]
    }
   ],
   "source": [
    "#dc=-3\n",
    "#print(zcand[dc])\n",
    "#150.184235 2.035242\n",
    "#2.23224\n",
    "bc=61\n",
    "zsearch=bincenters[bc]#np.median(znan[idxcatalog[ch]])#redshift used to search for cluster\n",
    "print(bincenters[bc])\n",
    "#print(len(znan[znan>4.]))\n",
    "zsiz=binwidth#0.1#allowed difference in z \n",
    "\n",
    "ztemp=znan[znan<zsearch+zsiz]\n",
    "zlook=ztemp[ztemp>zsearch-zsiz]#array of z for the clusters\n",
    "\n",
    "zpdftemp=zpdf[znan<zsearch+zsiz]\n",
    "zpdflook=zpdftemp[ztemp>zsearch-zsiz]\n",
    "\n",
    "atemp=anan[znan<zsearch+zsiz]\n",
    "alook=atemp[ztemp>zsearch-zsiz]#array of alpha for the clusters\n",
    "\n",
    "dtemp=dnan[znan<zsearch+zsiz]\n",
    "dlook=dtemp[ztemp>zsearch-zsiz]#array of delta for the clusters"
   ]
  },
  {
   "cell_type": "code",
   "execution_count": 18,
   "metadata": {},
   "outputs": [
    {
     "name": "stdout",
     "output_type": "stream",
     "text": [
      "2.240999937057495\n"
     ]
    },
    {
     "data": {
      "text/plain": [
       "[<matplotlib.lines.Line2D at 0x13f589ff310>]"
      ]
     },
     "execution_count": 18,
     "metadata": {},
     "output_type": "execute_result"
    },
    {
     "data": {
      "image/png": "[encoded data removed]",
      "text/plain": [
       "<Figure size 432x288 with 1 Axes>"
      ]
     },
     "metadata": {
      "needs_background": "light"
     },
     "output_type": "display_data"
    }
   ],
   "source": [
    "print(zlook[1])\n",
    "plt.plot(zrange,zpdflook[1])"
   ]
  },
  {
   "cell_type": "code",
   "execution_count": 14,
   "metadata": {},
   "outputs": [
    {
     "data": {
      "image/png": "[encoded data removed]",
      "text/plain": [
       "<Figure size 432x288 with 1 Axes>"
      ]
     },
     "metadata": {
      "needs_background": "light"
     },
     "output_type": "display_data"
    },
    {
     "name": "stdout",
     "output_type": "stream",
     "text": [
      "4255\n"
     ]
    }
   ],
   "source": [
    "plt.plot(alook,dlook,'.')\n",
    "plt.show()\n",
    "print(len(alook))"
   ]
  },
  {
   "cell_type": "markdown",
   "metadata": {},
   "source": [
    "# Machine learning for clusters"
   ]
  },
  {
   "cell_type": "code",
   "execution_count": null,
   "metadata": {
    "scrolled": false
   },
   "outputs": [],
   "source": [
    "from numpy import unique\n",
    "from numpy import where\n",
    "from sklearn.datasets import make_classification\n",
    "from sklearn.mixture import GaussianMixture\n",
    "from matplotlib import pyplot\n",
    "from sklearn.cluster import Birch\n",
    "from sklearn.cluster import DBSCAN\n",
    "\n",
    "# define dataset\n",
    "\n",
    "corr=[0]*len(alook)\n",
    "for i in range(0,len(alook)):\n",
    "    corr[i]=[alook[i], dlook[i],zlook[i]]\n",
    "#print(corr)\n",
    "\n",
    "X=np.array(corr)#[alook,dlook]\n",
    "#X, _ = make_classification(n_samples=1000, n_features=2, n_informative=2, n_redundant=0, n_clusters_per_class=1, random_state=4)\n",
    "print(X)"
   ]
  },
  {
   "cell_type": "code",
   "execution_count": null,
   "metadata": {},
   "outputs": [],
   "source": [
    "\n",
    "# define the model\n",
    "model = Birch(threshold=0.01, n_clusters=10)#GaussianMixture(n_components=10)#Birch(threshold=0.01, n_clusters=100)#\n",
    "# fit the model\n",
    "model.fit(X)\n",
    "# assign a cluster to each example\n",
    "yhat = model.predict(X)\n",
    "\n",
    "#DBSCAN model\n",
    "#model = DBSCAN(eps=0.30, min_samples=100)\n",
    "# fit model and predict clusters\n",
    "#yhat = model.fit_predict(X)\n",
    "\n",
    "print(yhat)\n",
    "# retrieve unique clusters\n",
    "clusters = unique(yhat)\n",
    "# create scatter plot for samples from each cluster\n",
    "for cluster in clusters:\n",
    "    # get row indexes for samples with this cluster\n",
    "    row_ix = where(yhat == cluster)#np.array(np.where(yhat == cluster))\n",
    "    #print(row_ix)\n",
    "    # create scatter of these samples\n",
    "    #plt.plot(X[row_ix[0]][0][0], X[row_ix[0]][0][1],'.')\n",
    "    pyplot.scatter(X[row_ix,0], X[row_ix,1])\n",
    "# show the plot\n",
    "pyplot.show()"
   ]
  },
  {
   "cell_type": "code",
   "execution_count": null,
   "metadata": {},
   "outputs": [],
   "source": [
    "from sklearn.manifold import TSNE\n",
    "import seaborn as sns\n",
    "import hdbscan\n",
    "#projection = TSNE().fit_transform(X)\n",
    "#'eom' and 'leaf'\n",
    "#min_samples=10\n",
    "clusterer = hdbscan.HDBSCAN(min_cluster_size=10,min_samples=10,cluster_selection_epsilon=0,cluster_selection_method='leaf',\n",
    "                            prediction_data=True).fit(X)\n",
    "\n",
    "color_palette = sns.color_palette('Paired', 100)\n",
    "cluster_colors = [color_palette[x] if x >= 0\n",
    "                  else (0.5, 0.5, 0.5)\n",
    "                  for x in clusterer.labels_]\n",
    "cluster_member_colors = [sns.desaturate(x, p) for x, p in\n",
    "                         zip(cluster_colors, clusterer.probabilities_)]\n",
    "plt.figure()\n",
    "plt.scatter(alook,dlook, s=50, linewidth=0, c=cluster_member_colors, alpha=0.25)\n",
    "#plt.plot(150.35,2.33,'.')\n",
    "#plt.plot(acand[dc], dcand[dc],'.')\n",
    "plt.xlabel('alpha')\n",
    "plt.ylabel('delta')\n"
   ]
  },
  {
   "cell_type": "code",
   "execution_count": null,
   "metadata": {},
   "outputs": [],
   "source": [
    "fig=plt.figure()\n",
    "#ax2 = fig.add_subplot(111, projection='3d')\n",
    "ax2=Axes3D(fig)\n",
    "ax2.scatter3D(alook,dlook,zlook, s=50, linewidth=0, c=cluster_member_colors, alpha=0.5)\n",
    "plt.show()\n"
   ]
  },
  {
   "cell_type": "code",
   "execution_count": null,
   "metadata": {},
   "outputs": [],
   "source": [
    "#clusterer.labels_\n",
    "#clusterer.labels_.max()\n",
    "Nclu=[0]*(clusterer.labels_.max()+1)\n",
    "zclu=[0]*(clusterer.labels_.max()+1)\n",
    "\n",
    "zlook\n",
    "\n",
    "for i in range(0,clusterer.labels_.max()+1):\n",
    "    Nclu[i] = np.count_nonzero(clusterer.labels_ == i)\n",
    "    zclu[i] = np.median(zlook[clusterer.labels_ == i])\n",
    "    \n",
    "print(Nclu)\n",
    "print(zclu)\n"
   ]
  },
  {
   "cell_type": "code",
   "execution_count": null,
   "metadata": {},
   "outputs": [],
   "source": [
    "#sky position of cluster\n",
    "catalog = SkyCoord(ra=anan*u.degree, dec=dnan*u.degree)  \n",
    "#print(catalog)\n",
    "#goes through all alpha,delta points chosen       \n",
    "\n",
    "\n",
    "#get median/mean position of clusters\n",
    "clustercorr=[0]*(clusterer.labels_.max()+1)\n",
    "clusterlog=[0]*(clusterer.labels_.max()+1)\n",
    "#(clusterer.labels_.max()+1)\n",
    "clusterrad=[0]*(clusterer.labels_.max()+1)\n",
    "for i in range(0,clusterer.labels_.max()+1):\n",
    "    clustercorr[i] = [np.median(alook[clusterer.labels_ == i]),np.median(dlook[clusterer.labels_ == i])]\n",
    "    clusterlog[i] = [alook[clusterer.labels_ == i],dlook[clusterer.labels_ == i]]\n",
    "    #clusterlog[i] = SkyCoord(ra=alook[clusterer.labels_ == i]*u.degree,dec=dlook[clusterer.labels_ == i]*u.degree)\n",
    "    clusterdist=[0]*Nclu[i]\n",
    "    for w in range(0,Nclu[i]):\n",
    "        clusterdist[w] = np.sqrt((clusterlog[i][0][w]-clustercorr[i][0])**2+(clusterlog[i][1][w]-clustercorr[i][1])**2)\n",
    "    clusterrad[i]=np.max(clusterdist)\n",
    "\n",
    "arrlength=len(anan)\n",
    "#print(arrlength)\n",
    "idxcatalog=[float('NaN')] * arrlength\n",
    "q=0\n",
    "\n",
    "for i in clustercorr:\n",
    "        scalarc = SkyCoord(i[0]*u.deg, i[1]*u.deg) \n",
    "        d2d = scalarc.separation(catalog)#gives distance to all objects on the sky\n",
    "        siz = clusterrad[q]#scalarc.separation(clusterlog[q])#gives distance to cluster objects\n",
    "        #print(siz)\n",
    "        catalogmsk = d2d < (siz)*u.deg#multiply by 0.5???\n",
    "        idxcatalog[q] = [np.where(catalogmsk)[0]]\n",
    "        print(idxcatalog[q])\n",
    "        q=q+1\n",
    "#One entry in idxcatalog gives all the objects included in the search area, centered around a cluster\n",
    "\n",
    "#Try to define i as the center position of the cluster (we have idx so we can calculate the mean/median) then define catalog\n",
    "#as the cluster positions and calculate the separation. Lastly a mask can be applied using the maximum distance from the center\n",
    "#(plus a bit maybe to include the farthest point?) and then all the redshift peaks and color plots. Remember the full catalog\n",
    "#is still needed for "
   ]
  },
  {
   "cell_type": "code",
   "execution_count": null,
   "metadata": {},
   "outputs": [],
   "source": [
    "import pandas as pd\n",
    "sns.distplot(clusterer.outlier_scores_[np.isfinite(clusterer.outlier_scores_)], rug=True)"
   ]
  },
  {
   "cell_type": "code",
   "execution_count": null,
   "metadata": {},
   "outputs": [],
   "source": [
    "threshold = pd.Series(clusterer.outlier_scores_).quantile(0.9)\n",
    "outliers = np.where(clusterer.outlier_scores_ > threshold)[0]\n",
    "plt.scatter(*X.T, s=50, linewidth=0, c='gray', alpha=0.25)\n",
    "plt.scatter(*X[outliers].T, s=50, linewidth=0, c='red', alpha=0.5)"
   ]
  },
  {
   "cell_type": "markdown",
   "metadata": {},
   "source": [
    "# Over density plots with Weighted Adaptive Kernel Estimator"
   ]
  },
  {
   "cell_type": "code",
   "execution_count": null,
   "metadata": {},
   "outputs": [],
   "source": [
    "def findXPoint(xa,xb,ya,yb,yc):\n",
    "    m = (xa - xb) / (ya - yb)\n",
    "    xc = (yc - yb) * m + xb\n",
    "    return"
   ]
  },
  {
   "cell_type": "code",
   "execution_count": null,
   "metadata": {},
   "outputs": [],
   "source": [
    "print(len(zpdflook))\n",
    "print(len(zlook))"
   ]
  },
  {
   "cell_type": "code",
   "execution_count": 20,
   "metadata": {},
   "outputs": [
    {
     "name": "stdout",
     "output_type": "stream",
     "text": [
      "2.237499952316284\n"
     ]
    },
    {
     "data": {
      "text/plain": [
       "[<matplotlib.lines.Line2D at 0x13f600da430>]"
      ]
     },
     "execution_count": 20,
     "metadata": {},
     "output_type": "execute_result"
    },
    {
     "data": {
      "image/png": "[encoded data removed]",
      "text/plain": [
       "<Figure size 432x288 with 1 Axes>"
      ]
     },
     "metadata": {
      "needs_background": "light"
     },
     "output_type": "display_data"
    }
   ],
   "source": [
    "#calculate weights from zpdf\n",
    "from __future__ import print_function\n",
    "\n",
    "import numpy as np\n",
    "from scipy.integrate import simps\n",
    "from numpy import trapz\n",
    "\n",
    "#print(zsearch)\n",
    "#zsiz\n",
    "#print(zpdflook)\n",
    "\n",
    "\n",
    "zrange=np.arange(0,10.01,0.01)#z range for pdf \n",
    "zrangetemp=zrange[zrange<zsearch+zsiz]\n",
    "zrangelook=zrangetemp[zrangetemp>zsearch-zsiz]\n",
    "weight=[float('NaN')]*len(zlook)\n",
    "\n",
    "for i in range(0,len(zlook)):\n",
    "    zpdftemp2=zpdflook[i][zrange<zsearch+zsiz]\n",
    "    zpdflook2=zpdftemp2[zrangetemp>zsearch-zsiz]\n",
    "    # Compute the area using the composite trapezoidal rule.\n",
    "    weight[i] = trapz(zpdflook2, dx=0.01)#we know the area of prob will be eaual to one\n",
    "\n",
    "#print(weight)\n",
    "\n",
    "print(zlook[2])\n",
    "plt.plot(zrange,zpdflook[2])"
   ]
  },
  {
   "cell_type": "code",
   "execution_count": 41,
   "metadata": {},
   "outputs": [],
   "source": [
    "#ri is the galaxy position\n",
    "#rj is all the other galaxy positions \n",
    "#h is the kernel width at that redshift taken from the simulations \n",
    "#hi is the kernel width and needs to be adaptive\n",
    "def Kernel(dist,h):\n",
    "    K=(1/2*np.pi*h)*np.exp(-dist**2/(2*h**2))\n",
    "    return K"
   ]
  },
  {
   "cell_type": "code",
   "execution_count": 55,
   "metadata": {},
   "outputs": [],
   "source": [
    "#calculate distance from point to all other points\n",
    "dist=[0]*len(weight)\n",
    "for w in range(0,len(weight)):\n",
    "    dist[w] = np.sqrt((alook-alook[w])**2+(dlook-dlook[w])**2)"
   ]
  },
  {
   "cell_type": "code",
   "execution_count": 54,
   "metadata": {},
   "outputs": [],
   "source": [
    "def geo_mean(iterable):\n",
    "    a = np.array(iterable)\n",
    "    return a.prod()**(1.0/len(a))\n",
    "\n",
    "def geo_mean_overflow(iterable):\n",
    "    a = np.log(iterable)\n",
    "    return np.exp(a.sum()/len(a))"
   ]
  },
  {
   "cell_type": "code",
   "execution_count": 59,
   "metadata": {},
   "outputs": [],
   "source": [
    "h=0.5#get this as a function as well for the model\n",
    "\n",
    "Surhat=[0]*len(weight)\n",
    "\n",
    "for i in range(0,len(weight)):\n",
    "    sumw=np.ma.array(weight, mask=False)\n",
    "    sumw.mask[i] = True\n",
    "    Kproduct=sumw*Kernel(dist[i],h=h)#DOES THIS ALSO MASK THE VALUE HERE???\n",
    "    Surhat[i]=(1/np.sum(sumw))*np.sum(Kproduct)\n",
    "\n",
    "G=geo_mean_overflow(Surhat)#geometric mean of all Surhat values \n",
    "li=(G/Surhat)**0.5\n",
    "hi=h*li"
   ]
  },
  {
   "cell_type": "code",
   "execution_count": null,
   "metadata": {},
   "outputs": [],
   "source": [
    "x=alook\n",
    "y=dlook\n",
    "nbins=600\n",
    "xi, yi = np.mgrid[x.min():x.max():nbins*1j, y.min():y.max():nbins*1j]"
   ]
  },
  {
   "cell_type": "code",
   "execution_count": null,
   "metadata": {},
   "outputs": [],
   "source": [
    "#FIND OUT IF ri IS THE SAME AS BEFORE HERE\n",
    "#calculate distance from point to all other points\n",
    "mdist=[0]*len(xi)\n",
    "for w in range(0,len(weight)):\n",
    "    mdist[w] = np.sqrt((xi-alook[w])**2+(dlook-dlook[w])**2)"
   ]
  },
  {
   "cell_type": "markdown",
   "metadata": {},
   "source": [
    "# Simple Gaussian Kernel"
   ]
  },
  {
   "cell_type": "code",
   "execution_count": null,
   "metadata": {},
   "outputs": [],
   "source": [
    "from scipy.stats import kde\n",
    "\n",
    "x=alook\n",
    "y=dlook\n",
    "nbins=600\n",
    "k = kde.gaussian_kde([x,y])\n",
    "xi, yi = np.mgrid[x.min():x.max():nbins*1j, y.min():y.max():nbins*1j]\n",
    "zi = k(np.vstack([xi.flatten(), yi.flatten()]))"
   ]
  },
  {
   "cell_type": "code",
   "execution_count": null,
   "metadata": {},
   "outputs": [],
   "source": [
    "from astropy.stats import sigma_clipped_stats\n",
    "from photutils.datasets import make_100gaussians_image\n",
    "from photutils import find_peaks\n",
    "from astropy.visualization import simple_norm\n",
    "from astropy.visualization.mpl_normalize import ImageNormalize\n",
    "from photutils import CircularAperture\n",
    "\n",
    "data = zi.reshape(xi.shape)/(np.max(zi.reshape(xi.shape)))\n",
    "#mean, median, std = sigma_clipped_stats(data, sigma=3.0)\n",
    "#print(mean,median,std)\n",
    "threshold = 0.9#median + (4. * std)\n",
    "tbl = find_peaks(data, threshold, box_size=11)\n",
    "tbl['peak_value'].info.format = '%.8g'  # for consistent table output\n",
    "tbl # print peaks"
   ]
  },
  {
   "cell_type": "code",
   "execution_count": null,
   "metadata": {},
   "outputs": [],
   "source": [
    "print(xi[tbl['x_peak']])"
   ]
  },
  {
   "cell_type": "code",
   "execution_count": null,
   "metadata": {},
   "outputs": [],
   "source": [
    "# Make the plot\n",
    "\n",
    "plt.pcolormesh(xi, yi, data)\n",
    "plt.plot(150.184235, 2.035242,'.')\n",
    "#positions = np.transpose((xi[tbl['x_peak']], yi[tbl['y_peak']]))\n",
    "#apertures = CircularAperture(positions, r=6.)\n",
    "#apertures.plot(color='red', lw=1.0)\n",
    "#plt.plot(xi[tbl['x_peak']][0][0], yi[tbl['y_peak']][0][0],'r.')\n",
    "\n",
    "plt.colorbar()\n",
    "plt.show()"
   ]
  },
  {
   "cell_type": "markdown",
   "metadata": {},
   "source": [
    "# Selection by area on the sky and then redshift"
   ]
  },
  {
   "cell_type": "code",
   "execution_count": null,
   "metadata": {},
   "outputs": [],
   "source": [
    "zcand=np.array([1.62,1.73,1.74,1.87,1.94,2.07,2.07,2.20,2.21,2.23,2.24,2.26,2.36,2.37,2.38,2.39,2.42,2.44,2.45,\n",
    "      2.48,2.53,2.61,2.62,2.64,2.68,2.69,2.72,2.74,2.74,2.77,2.81,3.01,3.02,3.04,3.04,3.08])\n",
    "acand=np.array([149.593,150.093,150.343,149.893,150.043,149.709,150.126,149.609,149.843,150.326,149.676,149.859,\n",
    "      150.693,149.643,150.209,150.476,149.809,149.643,150.076,149.576,150.293,149.509,150.359,150.576,\n",
    "      150.009,150.343,149.626,149.526,150.309,150.009,150.343,149.943,150.276,149.709,149.909,150.293])\n",
    "dcand=np.array([1.89,2.207,2.407,1.907,2.174,2.007,2.24,1.774,1.807,1.89,2.007,1.94,2.19,1.974,1.707,2.657,2.124,\n",
    "      2.674,2.274,1.957,2.324,1.907,2.674,2.674,2.207,2.557,2.324,1.907,2.507,1.974,2.64,1.774,2.324,\n",
    "      1.907,2.007,2.507])\n",
    "#corr=[0]*len(acand)\n",
    "#for i in range(0,len(acand)):\n",
    "#    corr[i]=[acand[i],dcand[i]]\n",
    "print(max(zcand)-min(zcand))\n",
    "print(np.median(zcand))"
   ]
  },
  {
   "cell_type": "code",
   "execution_count": null,
   "metadata": {},
   "outputs": [],
   "source": [
    "plt.figure(dpi=500)\n",
    "plt.plot(a,d,'.')\n",
    "plt.plot(acand,dcand,'.')\n",
    "plt.xlabel('alpha')\n",
    "plt.ylabel('delta')\n",
    "plt.plot(acand[34],dcand[34],'r.')"
   ]
  },
  {
   "cell_type": "code",
   "execution_count": null,
   "metadata": {},
   "outputs": [],
   "source": [
    "\n",
    "\n",
    "catalog = SkyCoord(ra=anan*u.degree, dec=dnan*u.degree)  \n",
    "siz=0.04#size used to look for objects close by, should be 2X the size of catalogmask size???\n",
    "arrlength=(len(np.arange(min(anan),max(anan),siz))*len(np.arange(min(dnan),max(dnan),siz)))\n",
    "\n",
    "print(arrlength)\n",
    "\n",
    "idxcatalog=[float('NaN')] * arrlength\n",
    "q=0\n",
    "\n",
    "#thearange=np.arange(min(anan),max(anan),siz)\n",
    "#thedrange=np.arange(min(dnan),max(dnan),siz)\n",
    "\n",
    "#goes though all alpha/delta combinations\n",
    "#for i in therange:\n",
    "#    for w in thedrange:\n",
    "#        scalarc = SkyCoord(i*u.deg, w*u.deg) \n",
    "#        d2d = scalarc.separation(catalog)\n",
    "#        catalogmsk = d2d < siz*u.deg#multiply by 0.5???\n",
    "#        idxcatalog[q] = [np.where(catalogmsk)[0]]\n",
    "#        print(idxcatalog[q])\n",
    "#        q=q+1\n",
    "\n",
    "#goes through all alpha,delta points chosen       \n",
    "corr=[[150.197509,2.003213]]\n",
    "\n",
    "for i in corr:\n",
    "        #print(i[0])\n",
    "        scalarc = SkyCoord(i[0]*u.deg, i[1]*u.deg) \n",
    "        d2d = scalarc.separation(catalog)\n",
    "        catalogmsk = d2d < (siz)*u.deg#multiply by 0.5???\n",
    "        idxcatalog[q] = [np.where(catalogmsk)[0]]\n",
    "        print(idxcatalog[q])\n",
    "        q=q+1\n",
    "#One entry in idxcatalog gives all the objects included in the search area\n",
    "\n",
    "#Try to define i as the center position of the cluster (we have idx so we can calculate the mean/median) then define catalog\n",
    "#as the cluster positions and calculate the separation. Lastly a mask can be applied using the maximum distance from the center\n",
    "#(plus a bit maybe to include the farthest point?) and then all the redshift peaks and color plots. Remember the full catalog\n",
    "#is still needed for "
   ]
  },
  {
   "cell_type": "code",
   "execution_count": null,
   "metadata": {},
   "outputs": [],
   "source": [
    "import matplotlib.pyplot as plt\n",
    "from mpl_toolkits.mplot3d import Axes3D\n",
    "fig = plt.figure(dpi=500)\n",
    "ax = fig.add_subplot(111, projection='3d')\n",
    "ax.scatter3D(anan, dnan, znan, c=znan);"
   ]
  },
  {
   "cell_type": "code",
   "execution_count": null,
   "metadata": {},
   "outputs": [],
   "source": [
    "ch=0#choses search region to look at\n",
    "plt.figure(dpi=500)\n",
    "plt.plot(anan[idxcatalog[ch]],dnan[idxcatalog[ch]],'.')\n",
    "plt.xlabel('alpha')\n",
    "plt.ylabel('delta')"
   ]
  },
  {
   "cell_type": "code",
   "execution_count": null,
   "metadata": {},
   "outputs": [],
   "source": [
    "def find_peaks(a):\n",
    "  x = np.array(a)\n",
    "  max = np.max(x)\n",
    "  lenght = len(a)\n",
    "  ret = []\n",
    "  for i in range(lenght):\n",
    "      ispeak = True\n",
    "      if i-1 > 0:\n",
    "          ispeak &= (x[i] > 1.25 * x[i-1] and x[i]>5)\n",
    "      if i+1 < lenght:\n",
    "          ispeak &= (x[i] > 1.25 * x[i+1] and x[i]>5)\n",
    "\n",
    "      #ispeak &= (x[i] > 0.05 * max)\n",
    "      if ispeak:\n",
    "          ret.append(i)\n",
    "  return ret"
   ]
  },
  {
   "cell_type": "code",
   "execution_count": null,
   "metadata": {},
   "outputs": [],
   "source": [
    "import scipy.stats\n",
    "from scipy.stats import norm\n",
    "from scipy.optimize import curve_fit\n",
    "\n",
    "binwidth=0.1\n",
    "#print(np.arange(min(znan[idxcatalog[ch]]), max(znan[idxcatalog[ch]]) + binwidth, binwidth))\n",
    "counts, edges, plot=plt.hist(znan[idxcatalog[ch]],bins=np.arange(min(znan[idxcatalog[ch]]), max(znan[idxcatalog[ch]]) + binwidth, binwidth))\n",
    "plt.xlabel('z')\n",
    "bincenters = np.mean(np.vstack([edges[0:-1],edges[1:]]), axis=0)\n",
    "#print(bincenters)\n",
    "\n",
    "\n",
    "peaks=find_peaks(counts)\n",
    "#print(peaks)\n",
    "\n",
    "#print(counts)\n",
    "print('Center of redshift bins for peaks:')\n",
    "print(bincenters[peaks])\n",
    "#print(edges[peaks])"
   ]
  },
  {
   "cell_type": "code",
   "execution_count": null,
   "metadata": {},
   "outputs": [],
   "source": [
    "zsearch=4.7524#np.median(znan[idxcatalog[ch]])#redshift used to search for cluster\n",
    "zsiz=binwidth#0.1#allowed difference in z \n",
    "\n",
    "ztemp=znan[idxcatalog[ch]][znan[idxcatalog[ch]]<zsearch+zsiz]\n",
    "zclu=ztemp[ztemp>zsearch-zsiz]#array of z for the cluster\n",
    "\n",
    "atemp=anan[idxcatalog[ch]][znan[idxcatalog[ch]]<zsearch+zsiz]\n",
    "aclu=atemp[ztemp>zsearch-zsiz]#array of alpha for the cluster\n",
    "\n",
    "dtemp=dnan[idxcatalog[ch]][znan[idxcatalog[ch]]<zsearch+zsiz]\n",
    "dclu=dtemp[ztemp>zsearch-zsiz]#array of delta for the cluster\n",
    "\n",
    "Gtemp=Gnan[idxcatalog[ch]][znan[idxcatalog[ch]]<zsearch+zsiz]\n",
    "Gclu=Gtemp[ztemp>zsearch-zsiz]#array of G mag for the cluster\n",
    "\n",
    "Rtemp=Rnan[idxcatalog[ch]][znan[idxcatalog[ch]]<zsearch+zsiz]\n",
    "Rclu=Rtemp[ztemp>zsearch-zsiz]#array of delta for the cluster\n",
    "\n",
    "Itemp=Inan[idxcatalog[ch]][znan[idxcatalog[ch]]<zsearch+zsiz]\n",
    "Iclu=Itemp[ztemp>zsearch-zsiz]#array of delta for the cluster\n",
    "\n",
    "Jtemp=Jnan[idxcatalog[ch]][znan[idxcatalog[ch]]<zsearch+zsiz]\n",
    "Jclu=Jtemp[ztemp>zsearch-zsiz]#array of delta for the cluster\n",
    "\n",
    "Htemp=Hnan[idxcatalog[ch]][znan[idxcatalog[ch]]<zsearch+zsiz]\n",
    "Hclu=Htemp[ztemp>zsearch-zsiz]#array of delta for the cluster\n",
    "\n",
    "Ktemp=Knan[idxcatalog[ch]][znan[idxcatalog[ch]]<zsearch+zsiz]\n",
    "Kclu=Ktemp[ztemp>zsearch-zsiz]#array of delta for the cluster\n",
    "\n",
    "#print(zclu)\n",
    "#for i in range "
   ]
  },
  {
   "cell_type": "markdown",
   "metadata": {},
   "source": [
    "# Color-color and color-mag plots"
   ]
  },
  {
   "cell_type": "code",
   "execution_count": null,
   "metadata": {},
   "outputs": [],
   "source": [
    "#Needs new appearant mags and selection criteria from paper"
   ]
  },
  {
   "cell_type": "code",
   "execution_count": null,
   "metadata": {},
   "outputs": [],
   "source": [
    "plt.figure(dpi=500)\n",
    "plt.plot(Hclu-Kclu,Jclu-Kclu,'.')\n",
    "#plt.plot(Hclu[zclu<np.median(zclu)]-Kclu[zclu<np.median(zclu)],Jclu[zclu<np.median(zclu)]-Kclu[zclu<np.median(zclu)],'b.')\n",
    "#plt.plot(Hclu[zclu>np.median(zclu)]-Kclu[zclu>np.median(zclu)],Jclu[zclu>np.median(zclu)]-Kclu[zclu>np.median(zclu)],'r.')\n",
    "plt.xlabel('H-K')\n",
    "plt.ylabel('J-K')"
   ]
  },
  {
   "cell_type": "code",
   "execution_count": null,
   "metadata": {},
   "outputs": [],
   "source": [
    "plt.figure(dpi=500)\n",
    "plt.plot(Kclu,Jclu-Kclu,'.')\n",
    "#plt.plot(Kclu[zclu<2.0],Jclu[zclu<2.0]-Kclu[zclu<2.0],'b.')\n",
    "#plt.plot(Kclu[zclu>2.0],Jclu[zclu>2.0]-Kclu[zclu>2.0],'r.')\n",
    "plt.xlabel('K')\n",
    "plt.ylabel('J-K')"
   ]
  },
  {
   "cell_type": "code",
   "execution_count": null,
   "metadata": {},
   "outputs": [],
   "source": [
    "plt.figure(dpi=500)\n",
    "plt.plot(Gclu-Iclu,Rclu-Gclu,'.')\n",
    "plt.xlabel('g-i')\n",
    "plt.ylabel('r-g')"
   ]
  },
  {
   "cell_type": "code",
   "execution_count": null,
   "metadata": {},
   "outputs": [],
   "source": [
    "plt.figure(dpi=500)\n",
    "plt.plot(Iclu,Gclu-Iclu,'.')\n",
    "plt.xlabel('i')\n",
    "plt.ylabel('r-g')"
   ]
  },
  {
   "cell_type": "code",
   "execution_count": null,
   "metadata": {},
   "outputs": [],
   "source": []
  }
 ],
 "metadata": {
  "kernelspec": {
   "display_name": "Python 3",
   "language": "python",
   "name": "python3"
  },
  "language_info": {
   "codemirror_mode": {
    "name": "ipython",
    "version": 3
   },
   "file_extension": ".py",
   "mimetype": "text/x-python",
   "name": "python",
   "nbconvert_exporter": "python",
   "pygments_lexer": "ipython3",
   "version": "3.8.3"
  }
 },
 "nbformat": 4,
 "nbformat_minor": 4
}
